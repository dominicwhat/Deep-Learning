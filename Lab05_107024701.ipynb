{
 "cells": [
  {
   "cell_type": "code",
   "execution_count": 60,
   "metadata": {},
   "outputs": [],
   "source": [
    "import pandas as pd\n",
    "import numpy as np"
   ]
  },
  {
   "cell_type": "code",
   "execution_count": 61,
   "metadata": {},
   "outputs": [],
   "source": [
    "X =  pd.read_csv('C:/Users/stat_pc/Desktop/深度學習/HW1/X_train.csv')\n",
    "y = pd.read_csv('C:/Users/stat_pc/Desktop/深度學習/HW1/y_train.csv')\n",
    "y = y.values.ravel()\n",
    "testdata = pd.read_csv('C:/Users/stat_pc/Desktop/深度學習/HW1/X_test.csv')"
   ]
  },
  {
   "cell_type": "code",
   "execution_count": 62,
   "metadata": {
    "scrolled": true
   },
   "outputs": [
    {
     "name": "stdout",
     "output_type": "stream",
     "text": [
      "(85751, 8)\n",
      "Index(['PERIOD', 'GAME_CLOCK', 'SHOT_CLOCK', 'DRIBBLES', 'TOUCH_TIME',\n",
      "       'SHOT_DIST', 'PTS_TYPE', 'CLOSE_DEF_DIST'],\n",
      "      dtype='object')\n"
     ]
    }
   ],
   "source": [
    "print(X.shape)\n",
    "print(X.columns)"
   ]
  },
  {
   "cell_type": "code",
   "execution_count": 63,
   "metadata": {},
   "outputs": [
    {
     "data": {
      "text/html": [
       "<div>\n",
       "<style scoped>\n",
       "    .dataframe tbody tr th:only-of-type {\n",
       "        vertical-align: middle;\n",
       "    }\n",
       "\n",
       "    .dataframe tbody tr th {\n",
       "        vertical-align: top;\n",
       "    }\n",
       "\n",
       "    .dataframe thead th {\n",
       "        text-align: right;\n",
       "    }\n",
       "</style>\n",
       "<table border=\"1\" class=\"dataframe\">\n",
       "  <thead>\n",
       "    <tr style=\"text-align: right;\">\n",
       "      <th></th>\n",
       "      <th>PERIOD</th>\n",
       "      <th>GAME_CLOCK</th>\n",
       "      <th>SHOT_CLOCK</th>\n",
       "      <th>DRIBBLES</th>\n",
       "      <th>TOUCH_TIME</th>\n",
       "      <th>SHOT_DIST</th>\n",
       "      <th>PTS_TYPE</th>\n",
       "      <th>CLOSE_DEF_DIST</th>\n",
       "    </tr>\n",
       "  </thead>\n",
       "  <tbody>\n",
       "    <tr>\n",
       "      <th>0</th>\n",
       "      <td>1</td>\n",
       "      <td>358</td>\n",
       "      <td>2.4</td>\n",
       "      <td>0</td>\n",
       "      <td>3.2</td>\n",
       "      <td>20.6</td>\n",
       "      <td>2</td>\n",
       "      <td>4.5</td>\n",
       "    </tr>\n",
       "    <tr>\n",
       "      <th>1</th>\n",
       "      <td>1</td>\n",
       "      <td>585</td>\n",
       "      <td>8.3</td>\n",
       "      <td>0</td>\n",
       "      <td>1.2</td>\n",
       "      <td>3.0</td>\n",
       "      <td>2</td>\n",
       "      <td>0.5</td>\n",
       "    </tr>\n",
       "    <tr>\n",
       "      <th>2</th>\n",
       "      <td>1</td>\n",
       "      <td>540</td>\n",
       "      <td>19.9</td>\n",
       "      <td>0</td>\n",
       "      <td>0.6</td>\n",
       "      <td>3.5</td>\n",
       "      <td>2</td>\n",
       "      <td>3.2</td>\n",
       "    </tr>\n",
       "    <tr>\n",
       "      <th>3</th>\n",
       "      <td>1</td>\n",
       "      <td>392</td>\n",
       "      <td>9.0</td>\n",
       "      <td>0</td>\n",
       "      <td>0.9</td>\n",
       "      <td>21.1</td>\n",
       "      <td>2</td>\n",
       "      <td>4.9</td>\n",
       "    </tr>\n",
       "    <tr>\n",
       "      <th>4</th>\n",
       "      <td>3</td>\n",
       "      <td>401</td>\n",
       "      <td>22.7</td>\n",
       "      <td>0</td>\n",
       "      <td>0.7</td>\n",
       "      <td>4.1</td>\n",
       "      <td>2</td>\n",
       "      <td>2.9</td>\n",
       "    </tr>\n",
       "  </tbody>\n",
       "</table>\n",
       "</div>"
      ],
      "text/plain": [
       "   PERIOD  GAME_CLOCK  SHOT_CLOCK  DRIBBLES  TOUCH_TIME  SHOT_DIST  PTS_TYPE  \\\n",
       "0       1         358         2.4         0         3.2       20.6         2   \n",
       "1       1         585         8.3         0         1.2        3.0         2   \n",
       "2       1         540        19.9         0         0.6        3.5         2   \n",
       "3       1         392         9.0         0         0.9       21.1         2   \n",
       "4       3         401        22.7         0         0.7        4.1         2   \n",
       "\n",
       "   CLOSE_DEF_DIST  \n",
       "0             4.5  \n",
       "1             0.5  \n",
       "2             3.2  \n",
       "3             4.9  \n",
       "4             2.9  "
      ]
     },
     "execution_count": 63,
     "metadata": {},
     "output_type": "execute_result"
    }
   ],
   "source": [
    "X.head()"
   ]
  },
  {
   "cell_type": "markdown",
   "metadata": {},
   "source": [
    "# 由於'PERIOD'和'PTS_TYPE'應為類別變數，故將這兩項變數用one hot encoding轉換"
   ]
  },
  {
   "cell_type": "code",
   "execution_count": 64,
   "metadata": {},
   "outputs": [
    {
     "data": {
      "text/html": [
       "<div>\n",
       "<style scoped>\n",
       "    .dataframe tbody tr th:only-of-type {\n",
       "        vertical-align: middle;\n",
       "    }\n",
       "\n",
       "    .dataframe tbody tr th {\n",
       "        vertical-align: top;\n",
       "    }\n",
       "\n",
       "    .dataframe thead th {\n",
       "        text-align: right;\n",
       "    }\n",
       "</style>\n",
       "<table border=\"1\" class=\"dataframe\">\n",
       "  <thead>\n",
       "    <tr style=\"text-align: right;\">\n",
       "      <th></th>\n",
       "      <th>GAME_CLOCK</th>\n",
       "      <th>SHOT_DIST</th>\n",
       "      <th>TOUCH_TIME</th>\n",
       "      <th>SHOT_CLOCK</th>\n",
       "      <th>DRIBBLES</th>\n",
       "      <th>CLOSE_DEF_DIST</th>\n",
       "      <th>2 point</th>\n",
       "      <th>3 point</th>\n",
       "      <th>period 1</th>\n",
       "      <th>period 2</th>\n",
       "      <th>period 3</th>\n",
       "      <th>period 4</th>\n",
       "      <th>period 5</th>\n",
       "      <th>period 6</th>\n",
       "      <th>period 7</th>\n",
       "    </tr>\n",
       "  </thead>\n",
       "  <tbody>\n",
       "    <tr>\n",
       "      <th>0</th>\n",
       "      <td>358</td>\n",
       "      <td>20.6</td>\n",
       "      <td>3.2</td>\n",
       "      <td>2.4</td>\n",
       "      <td>0</td>\n",
       "      <td>4.5</td>\n",
       "      <td>1</td>\n",
       "      <td>0</td>\n",
       "      <td>1</td>\n",
       "      <td>0</td>\n",
       "      <td>0</td>\n",
       "      <td>0</td>\n",
       "      <td>0</td>\n",
       "      <td>0</td>\n",
       "      <td>0</td>\n",
       "    </tr>\n",
       "    <tr>\n",
       "      <th>1</th>\n",
       "      <td>585</td>\n",
       "      <td>3.0</td>\n",
       "      <td>1.2</td>\n",
       "      <td>8.3</td>\n",
       "      <td>0</td>\n",
       "      <td>0.5</td>\n",
       "      <td>1</td>\n",
       "      <td>0</td>\n",
       "      <td>1</td>\n",
       "      <td>0</td>\n",
       "      <td>0</td>\n",
       "      <td>0</td>\n",
       "      <td>0</td>\n",
       "      <td>0</td>\n",
       "      <td>0</td>\n",
       "    </tr>\n",
       "    <tr>\n",
       "      <th>2</th>\n",
       "      <td>540</td>\n",
       "      <td>3.5</td>\n",
       "      <td>0.6</td>\n",
       "      <td>19.9</td>\n",
       "      <td>0</td>\n",
       "      <td>3.2</td>\n",
       "      <td>1</td>\n",
       "      <td>0</td>\n",
       "      <td>1</td>\n",
       "      <td>0</td>\n",
       "      <td>0</td>\n",
       "      <td>0</td>\n",
       "      <td>0</td>\n",
       "      <td>0</td>\n",
       "      <td>0</td>\n",
       "    </tr>\n",
       "    <tr>\n",
       "      <th>3</th>\n",
       "      <td>392</td>\n",
       "      <td>21.1</td>\n",
       "      <td>0.9</td>\n",
       "      <td>9.0</td>\n",
       "      <td>0</td>\n",
       "      <td>4.9</td>\n",
       "      <td>1</td>\n",
       "      <td>0</td>\n",
       "      <td>1</td>\n",
       "      <td>0</td>\n",
       "      <td>0</td>\n",
       "      <td>0</td>\n",
       "      <td>0</td>\n",
       "      <td>0</td>\n",
       "      <td>0</td>\n",
       "    </tr>\n",
       "    <tr>\n",
       "      <th>4</th>\n",
       "      <td>401</td>\n",
       "      <td>4.1</td>\n",
       "      <td>0.7</td>\n",
       "      <td>22.7</td>\n",
       "      <td>0</td>\n",
       "      <td>2.9</td>\n",
       "      <td>1</td>\n",
       "      <td>0</td>\n",
       "      <td>0</td>\n",
       "      <td>0</td>\n",
       "      <td>1</td>\n",
       "      <td>0</td>\n",
       "      <td>0</td>\n",
       "      <td>0</td>\n",
       "      <td>0</td>\n",
       "    </tr>\n",
       "  </tbody>\n",
       "</table>\n",
       "</div>"
      ],
      "text/plain": [
       "   GAME_CLOCK  SHOT_DIST  TOUCH_TIME  SHOT_CLOCK  DRIBBLES  CLOSE_DEF_DIST  \\\n",
       "0         358       20.6         3.2         2.4         0             4.5   \n",
       "1         585        3.0         1.2         8.3         0             0.5   \n",
       "2         540        3.5         0.6        19.9         0             3.2   \n",
       "3         392       21.1         0.9         9.0         0             4.9   \n",
       "4         401        4.1         0.7        22.7         0             2.9   \n",
       "\n",
       "   2 point  3 point  period 1  period 2  period 3  period 4  period 5  \\\n",
       "0        1        0         1         0         0         0         0   \n",
       "1        1        0         1         0         0         0         0   \n",
       "2        1        0         1         0         0         0         0   \n",
       "3        1        0         1         0         0         0         0   \n",
       "4        1        0         0         0         1         0         0   \n",
       "\n",
       "   period 6  period 7  \n",
       "0         0         0  \n",
       "1         0         0  \n",
       "2         0         0  \n",
       "3         0         0  \n",
       "4         0         0  "
      ]
     },
     "execution_count": 64,
     "metadata": {},
     "output_type": "execute_result"
    }
   ],
   "source": [
    "df2 = pd.get_dummies(X['PTS_TYPE'])\n",
    "df2.columns = ['2 point','3 point']\n",
    "df3 = pd.get_dummies(X['PERIOD'])\n",
    "df3.columns = ['period 1','period 2','period 3','period 4','period 5','period 6','period 7']\n",
    "newX = pd.concat([X[['GAME_CLOCK','SHOT_DIST','TOUCH_TIME','SHOT_CLOCK','DRIBBLES','CLOSE_DEF_DIST']],df2],axis=1)\n",
    "newX = pd.concat([newX,df3],axis=1)\n",
    "newX.head()"
   ]
  },
  {
   "cell_type": "markdown",
   "metadata": {},
   "source": [
    "# 將data切成training data 和 validation data"
   ]
  },
  {
   "cell_type": "code",
   "execution_count": 65,
   "metadata": {},
   "outputs": [],
   "source": [
    "import numpy as np # linear algebra\n",
    "import pandas as pd # data processing, CSV file I/O (e.g. pd.read_csv)\n",
    "from xgboost import XGBClassifier\n",
    "from xgboost import plot_importance\n",
    "from xgboost import plot_tree\n",
    "import matplotlib.pyplot as plt\n",
    "from matplotlib import pyplot\n",
    "from statsmodels.nonparametric.smoothers_lowess import lowess\n",
    "from sklearn.preprocessing import LabelEncoder\n",
    "from sklearn.metrics import confusion_matrix, mean_squared_error,precision_score,accuracy_score\n",
    "from sklearn.model_selection import train_test_split,KFold\n",
    "#from sklearn.cross_validation import KFold, train_test_split\n",
    "from sklearn.model_selection import GridSearchCV\n",
    "#from sklearn.grid_search import GridSearchCV\n",
    "import math\n",
    "from sklearn.preprocessing import StandardScaler"
   ]
  },
  {
   "cell_type": "code",
   "execution_count": 66,
   "metadata": {},
   "outputs": [],
   "source": [
    "X_train, X_test, y_train, y_test = train_test_split(newX,y,test_size=0.3,random_state=0)"
   ]
  },
  {
   "cell_type": "markdown",
   "metadata": {},
   "source": [
    "# 建模"
   ]
  },
  {
   "cell_type": "markdown",
   "metadata": {},
   "source": [
    "## Naive Bayes  \n",
    "accuracy低於0.6"
   ]
  },
  {
   "cell_type": "code",
   "execution_count": 8,
   "metadata": {},
   "outputs": [
    {
     "name": "stdout",
     "output_type": "stream",
     "text": [
      "accuracy\n",
      "0.5382103708310658\n"
     ]
    }
   ],
   "source": [
    "from sklearn.naive_bayes import GaussianNB\n",
    "\n",
    "classifier = GaussianNB()\n",
    "\n",
    "classifier.fit(X_train, y_train)\n",
    "\n",
    "# Predicting the Test set results\n",
    "\n",
    "pred = classifier.predict(X_test)\n",
    "\n",
    "print('accuracy')\n",
    "print(accuracy_score(y_test, pred))"
   ]
  },
  {
   "cell_type": "markdown",
   "metadata": {},
   "source": [
    "## RidgeClassifier\n",
    "accuracy=0.6080230117390967"
   ]
  },
  {
   "cell_type": "code",
   "execution_count": 9,
   "metadata": {},
   "outputs": [
    {
     "name": "stdout",
     "output_type": "stream",
     "text": [
      "accuracy\n",
      "0.6080230117390967\n"
     ]
    }
   ],
   "source": [
    "from sklearn.linear_model import RidgeClassifier\n",
    "clf = RidgeClassifier().fit(X_train, y_train)\n",
    "pred = clf.predict(X_test)\n",
    "print('accuracy')\n",
    "print(accuracy_score(y_test, pred))"
   ]
  },
  {
   "cell_type": "markdown",
   "metadata": {},
   "source": [
    "## SVM\n",
    "accuracy低於0.6"
   ]
  },
  {
   "cell_type": "code",
   "execution_count": 13,
   "metadata": {},
   "outputs": [
    {
     "name": "stdout",
     "output_type": "stream",
     "text": [
      "accuracy\n",
      "0.5972556946280028\n"
     ]
    }
   ],
   "source": [
    "from sklearn import svm\n",
    "clf = svm.SVC()\n",
    "clf.fit(X_train,y_train)\n",
    "pred = clf.predict(X_test)\n",
    "print('accuracy')\n",
    "print(accuracy_score(y_test, pred))"
   ]
  },
  {
   "cell_type": "markdown",
   "metadata": {},
   "source": [
    "## Xgboost(稱 XGBmodel1)\n",
    "accuracy = 0.6133872347041903,表現比前述的model好一點"
   ]
  },
  {
   "cell_type": "code",
   "execution_count": 17,
   "metadata": {
    "scrolled": true
   },
   "outputs": [
    {
     "data": {
      "image/png": "[encoded data removed]",
      "text/plain": [
       "<Figure size 432x288 with 1 Axes>"
      ]
     },
     "metadata": {
      "needs_background": "light"
     },
     "output_type": "display_data"
    },
    {
     "name": "stdout",
     "output_type": "stream",
     "text": [
      "confusion_matrix\n",
      "[[11835  2094]\n",
      " [ 7852  3945]]\n",
      "accuarcy\n",
      "0.6133872347041903\n"
     ]
    }
   ],
   "source": [
    "# Boosting without parameter tuning\n",
    "xgb_model = XGBClassifier().fit(X_train,y_train)\n",
    "\n",
    "pred = xgb_model.predict(X_test)\n",
    "\n",
    "plot_importance(xgb_model, importance_type ='weight')\n",
    "pyplot.show()\n",
    "\n",
    "print('confusion_matrix')\n",
    "print(confusion_matrix(y_test, pred))\n",
    "print('accuarcy')\n",
    "print(accuracy_score(y_test, pred))"
   ]
  },
  {
   "cell_type": "markdown",
   "metadata": {},
   "source": [
    "## 接下來我嘗試用 GridSearchCV 去 tune Xgboost 參數，找出較好的model(稱 XGBmodel2)，發現accuarcy=0.613853688875068 比XGBmodel1好一點點"
   ]
  },
  {
   "cell_type": "code",
   "execution_count": 11,
   "metadata": {},
   "outputs": [
    {
     "name": "stdout",
     "output_type": "stream",
     "text": [
      "Fitting 5 folds for each of 2160 candidates, totalling 10800 fits\n"
     ]
    },
    {
     "name": "stderr",
     "output_type": "stream",
     "text": [
      "[Parallel(n_jobs=-1)]: Using backend LokyBackend with 12 concurrent workers.\n",
      "[Parallel(n_jobs=-1)]: Done  17 tasks      | elapsed:    2.0s\n",
      "[Parallel(n_jobs=-1)]: Done 138 tasks      | elapsed:    9.7s\n",
      "[Parallel(n_jobs=-1)]: Done 341 tasks      | elapsed:   23.5s\n",
      "[Parallel(n_jobs=-1)]: Done 624 tasks      | elapsed:   48.8s\n",
      "[Parallel(n_jobs=-1)]: Done 989 tasks      | elapsed:  1.6min\n",
      "[Parallel(n_jobs=-1)]: Done 1434 tasks      | elapsed:  2.9min\n",
      "[Parallel(n_jobs=-1)]: Done 1961 tasks      | elapsed:  4.7min\n",
      "[Parallel(n_jobs=-1)]: Done 2568 tasks      | elapsed:  5.7min\n",
      "[Parallel(n_jobs=-1)]: Done 3257 tasks      | elapsed:  7.6min\n",
      "[Parallel(n_jobs=-1)]: Done 4026 tasks      | elapsed:  9.6min\n",
      "[Parallel(n_jobs=-1)]: Done 4877 tasks      | elapsed: 11.6min\n",
      "[Parallel(n_jobs=-1)]: Done 5808 tasks      | elapsed: 14.3min\n",
      "[Parallel(n_jobs=-1)]: Done 6821 tasks      | elapsed: 18.6min\n",
      "[Parallel(n_jobs=-1)]: Done 7914 tasks      | elapsed: 22.9min\n",
      "[Parallel(n_jobs=-1)]: Done 9089 tasks      | elapsed: 29.3min\n",
      "[Parallel(n_jobs=-1)]: Done 10344 tasks      | elapsed: 33.7min\n",
      "[Parallel(n_jobs=-1)]: Done 10800 out of 10800 | elapsed: 37.2min finished\n"
     ]
    },
    {
     "name": "stdout",
     "output_type": "stream",
     "text": [
      "confusion_matrix\n",
      "[[11935  1994]\n",
      " [ 7940  3857]]\n",
      "accuarcy\n",
      "0.613853688875068\n",
      "best params\n",
      "{'colsample_bytree': 1, 'learning_rate': 0.001, 'max_depth': 5, 'min_child_weight': 1e-05, 'n_estimators': 50, 'random_state': 0, 'subsample': 0.5}\n"
     ]
    }
   ],
   "source": [
    "parameters_for_testing = {\n",
    "    'subsample':[0.5,1],\n",
    "    'colsample_bytree':[0.5,1],\n",
    "    'min_child_weight':[0.00001,0.0001,0.001,0.01,0.1],\n",
    "    'learning_rate':[0.00001,0.0001,0.001],\n",
    "    'n_estimators':[1,5,10,30,50,100],\n",
    "    'max_depth':[3,5,8,10,12,15],\n",
    "    'random_state':[0]\n",
    "}\n",
    "\n",
    "xgb_model1 = XGBClassifier()\n",
    "\n",
    "Grid = GridSearchCV(estimator = xgb_model1, param_grid = parameters_for_testing, scoring='accuracy',verbose=2,n_jobs=-1)\n",
    "Grid.fit(X_train,y_train)\n",
    "\n",
    "pred = Grid.predict(X_test)\n",
    "\n",
    "print('confusion_matrix')\n",
    "print(confusion_matrix(y_test, pred))\n",
    "print('accuarcy')\n",
    "print(accuracy_score(y_test, pred))\n",
    "print('best params')\n",
    "print (Grid.best_params_)"
   ]
  },
  {
   "cell_type": "markdown",
   "metadata": {},
   "source": [
    "## 我以XGBmodel2的參數為基礎，而以Model complexity (max_depth)當x軸，error=1- accuracy當y軸畫error curve，可發現training error整體而言呈下降趨勢，當max_depth達到8時，testing error達到最低點，而後有些微上升的趨勢，可認為當max_depth大於8時，有overfitting的情況發生"
   ]
  },
  {
   "cell_type": "code",
   "execution_count": 55,
   "metadata": {},
   "outputs": [
    {
     "data": {
      "image/png": "[encoded data removed]",
      "text/plain": [
       "<Figure size 432x288 with 1 Axes>"
      ]
     },
     "metadata": {
      "needs_background": "light"
     },
     "output_type": "display_data"
    }
   ],
   "source": [
    "error_train = []\n",
    "error_test = []\n",
    "\n",
    "\n",
    "for d in range(1, 21):\n",
    "    XGB =XGBClassifier(\n",
    "    colsample_bytree =1,\n",
    "    learning_rate= 0.001,\n",
    "    max_depth= d,\n",
    "    min_child_weight=1e-05,\n",
    "    n_estimators =50,\n",
    "    random_state = 0,\n",
    "    subsample = 0.5)\n",
    "    XGB.fit(X_train,y_train)\n",
    "    y_train_pred = XGB.predict(X_train)\n",
    "    y_test_pred = XGB.predict(X_test)\n",
    "    error_train.append(1-accuracy_score(y_train, y_train_pred))\n",
    "    error_test.append(1-accuracy_score(y_test, y_test_pred))\n",
    "\n",
    "plt.plot(range(1, 21), error_train, label = 'Training error', color = 'blue', linewidth = 2)\n",
    "plt.plot(range(1, 21), error_test, label = 'Testing error', color = 'red', linewidth = 2)\n",
    "plt.legend(loc='upper right')\n",
    "plt.xlabel('Model complexity (max_depth)')\n",
    "plt.ylabel('error')\n",
    "plt.axvline(x=error_test.index(min(error_test))+1,ls=\"-\",c=\"green\")\n",
    "plt.tight_layout()\n",
    "plt.savefig('./output/fig-error-curve.png', dpi=300)\n",
    "plt.show()"
   ]
  },
  {
   "cell_type": "markdown",
   "metadata": {},
   "source": [
    "## 將max_depth改成8，其餘XGBmodel2的參數不變，重新fit model(稱XGBmodel3)，得到accuarcy=0.6148643395786364，為目前最高的accuarcy，因此XGBmodel3即是本次我認為最好的model。另外觀察XGBmodel3的Feature importance，我們得到前三重要的Feature為\"GAME_CLOCK\"、\"SHOT_CLOCK\"、\"SHOT_DIST\""
   ]
  },
  {
   "cell_type": "code",
   "execution_count": 67,
   "metadata": {},
   "outputs": [
    {
     "data": {
      "image/png": "[encoded data removed]",
      "text/plain": [
       "<Figure size 432x288 with 1 Axes>"
      ]
     },
     "metadata": {
      "needs_background": "light"
     },
     "output_type": "display_data"
    },
    {
     "name": "stdout",
     "output_type": "stream",
     "text": [
      "confusion_matrix\n",
      "[[11840  2089]\n",
      " [ 7819  3978]]\n",
      "accuarcy\n",
      "0.6148643395786364\n"
     ]
    }
   ],
   "source": [
    "finalXGB =XGBClassifier(\n",
    "    colsample_bytree =1,\n",
    "    learning_rate= 0.001,\n",
    "    max_depth= 8  ,\n",
    "    min_child_weight=1e-05,\n",
    "    n_estimators =50,\n",
    "    random_state = 0,\n",
    "    subsample = 0.5)\n",
    "finalXGB.fit(X_train,y_train)\n",
    "pred = finalXGB.predict(X_test)\n",
    "\n",
    "plot_importance(finalXGB, importance_type ='weight')\n",
    "pyplot.show()\n",
    "\n",
    "print('confusion_matrix')\n",
    "print(confusion_matrix(y_test, pred))\n",
    "print('accuarcy')\n",
    "print(accuracy_score(y_test, pred))\n"
   ]
  },
  {
   "cell_type": "markdown",
   "metadata": {},
   "source": [
    "## 用\"GAME_CLOCK\"、\"SHOT_CLOCK\"、\"SHOT_DIST\"，這3個Feature重新去fit Xgboost，得到accuarcy = 0.6053409002565497"
   ]
  },
  {
   "cell_type": "code",
   "execution_count": 44,
   "metadata": {},
   "outputs": [
    {
     "name": "stdout",
     "output_type": "stream",
     "text": [
      "confusion_matrix\n",
      "[[11368  2561]\n",
      " [ 7592  4205]]\n",
      "accuarcy\n",
      "0.6053409002565497\n"
     ]
    }
   ],
   "source": [
    "top3feature = newX[['GAME_CLOCK','SHOT_CLOCK','SHOT_DIST']]\n",
    "X_train1, X_test1, y_train1, y_test1 = train_test_split(top3feature,y,test_size=0.3,random_state=0)\n",
    "XGB =XGBClassifier(\n",
    "    colsample_bytree =1,\n",
    "    learning_rate= 0.001,\n",
    "    max_depth= 8,\n",
    "    min_child_weight=1e-05,\n",
    "    n_estimators =50,\n",
    "    random_state = 0,\n",
    "    subsample = 0.5)\n",
    "XGB.fit(X_train1,y_train1)\n",
    "pred = XGB.predict(X_test1)\n",
    "\n",
    "print('confusion_matrix')\n",
    "print(confusion_matrix(y_test1, pred))\n",
    "print('accuarcy')\n",
    "print(accuracy_score(y_test1, pred))"
   ]
  },
  {
   "cell_type": "markdown",
   "metadata": {},
   "source": [
    "## 輸出csv檔"
   ]
  },
  {
   "cell_type": "code",
   "execution_count": 70,
   "metadata": {},
   "outputs": [],
   "source": [
    "testdata = pd.read_csv('C:/Users/stat_pc/Desktop/深度學習/HW1/X_test.csv')\n",
    "df2 = pd.get_dummies(testdata['PTS_TYPE'])\n",
    "df2.columns = ['2 point','3 point']\n",
    "df3 = pd.get_dummies(testdata['PERIOD'])\n",
    "df3.columns = ['period 1','period 2','period 3','period 4','period 5','period 6','period 7']\n",
    "testnewX = pd.concat([testdata[['GAME_CLOCK','SHOT_DIST','TOUCH_TIME','SHOT_CLOCK','DRIBBLES','CLOSE_DEF_DIST']],df2],axis=1)\n",
    "testnewX = pd.concat([testnewX,df3],axis=1)\n",
    "\n",
    "finalpred = finalXGB.predict(testnewX)\n",
    "pd.DataFrame(finalpred).to_csv('C:/Users/stat_pc/Desktop/深度學習/HW1/y_pred.csv',index=False,header=False)"
   ]
  },
  {
   "cell_type": "code",
   "execution_count": null,
   "metadata": {},
   "outputs": [],
   "source": []
  }
 ],
 "metadata": {
  "kernelspec": {
   "display_name": "Python [conda env:python3.7.9v1]",
   "language": "python",
   "name": "conda-env-python3.7.9v1-py"
  },
  "language_info": {
   "codemirror_mode": {
    "name": "ipython",
    "version": 3
   },
   "file_extension": ".py",
   "mimetype": "text/x-python",
   "name": "python",
   "nbconvert_exporter": "python",
   "pygments_lexer": "ipython3",
   "version": "3.7.9"
  }
 },
 "nbformat": 4,
 "nbformat_minor": 4
}
